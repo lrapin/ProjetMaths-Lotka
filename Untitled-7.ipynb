{
 "metadata": {
  "language_info": {
   "codemirror_mode": {
    "name": "ipython",
    "version": 3
   },
   "file_extension": ".py",
   "mimetype": "text/x-python",
   "name": "python",
   "nbconvert_exporter": "python",
   "pygments_lexer": "ipython3",
   "version": 3
  },
  "orig_nbformat": 2
 },
 "nbformat": 4,
 "nbformat_minor": 2,
 "cells": [
  {
   "source": [
    "Question 6 :"
   ],
   "cell_type": "markdown",
   "metadata": {}
  },
  {
   "source": [
    "def solve_euler_explicit(f, x0, t0, tf, dt):\n",
    "    x = x0\n",
    "    t = np.array([[t0]])\n",
    "    X, T = x0, t0\n",
    "    while T < tf :\n",
    "        X_, T_ = X, T\n",
    "        X = X + dt*f(T_, X_)\n",
    "        T += dt\n",
    "        x = np.append(x, X, axis = 0)\n",
    "        t = np.append(t, np.array([[T]]), axis = 0)\n",
    "    return t, x"
   ],
   "cell_type": "code",
   "metadata": {},
   "execution_count": null,
   "outputs": []
  },
  {
   "source": [
    "On vérifie la convergence du schéma sur l'équation différentielle $\\dot x = x$ avec la condition initiale $x(0) = 1$, dont la solution est exp."
   ],
   "cell_type": "markdown",
   "metadata": {}
  },
  {
   "cell_type": "code",
   "execution_count": null,
   "metadata": {},
   "outputs": [],
   "source": [
    "def g(t, x):\n",
    "    return x\n",
    "\n",
    "x1 = np.array([[1]])\n",
    "\n",
    "# SIMULATION 1 : convergence du schéma vers exp\n",
    "\n",
    "def simulation1():\n",
    "    t, y1 = solve_euler_explicit(g, x1, 0, 2, 0.1)\n",
    "    t2, y2 = solve_euler_explicit(g, x1, 0, 2, 0.01)\n",
    "    y3 = np.exp(t)\n",
    "    plt.plot(t, y1, label=\"dt = 0.1\")\n",
    "    plt.plot(t2, y2, label=\"dt = 0.01\")\n",
    "    plt.plot(t, y3, label=\"exp(t)\")\n",
    "    plt.legend()\n",
    "    plt.show()"
   ]
  },
  {
   "cell_type": "code",
   "execution_count": null,
   "metadata": {},
   "outputs": [],
   "source": [
    "simulation1()"
   ]
  },
  {
   "source": [
    "L'ordre de convergence est lié à l'écart entre la solution réelle et la solution numérique. On peut l'observer graphiquement en relevant l'erreur et en l'exprimant en fonction de dt. Dans le cas qui nous occupe, le schéma d'Euler étant convergent d'ordre 1, on s'attend à ce que l'erreur soit de l'ordre de $dt^2$ quand dt tend vers 0."
   ],
   "cell_type": "markdown",
   "metadata": {}
  },
  {
   "source": [
    "Question 7 :"
   ],
   "cell_type": "markdown",
   "metadata": {}
  },
  {
   "cell_type": "code",
   "execution_count": null,
   "metadata": {},
   "outputs": [],
   "source": [
    "alpha = 2/3 #accroissement des sardines\n",
    "beta = 4/3 #mortalité des sardines\n",
    "gamma = 1 #accroissement des requins\n",
    "delta = 1 #mortalité des requins\n",
    "\n",
    "x0 = np.array([[2, 0.1]])\n",
    "\n",
    "def F(t, x):\n",
    "    x1 = x[0][0]\n",
    "    x2 = x[0][1]\n",
    "    return np.array([[alpha*x1 - beta*x1*x2, -gamma*x2 + delta*x1*x2]])\n",
    "\n",
    "def H(x):\n",
    "    return delta*x[0] - gamma*np.log(x[0]) + beta*x[1] - alpha*np.log(x[1])\n",
    "\n",
    "# SIMULATION 2 : application au système de Lotka et Volterra\n",
    "\n",
    "def simulation2():\n",
    "    V = solve_euler_explicit(F, x0, 0, 300, 0.1)\n",
    "    t = V[0]\n",
    "    y1 = [y[0] for y in V[1]]\n",
    "    y2 = [y[1] for y in V[1]]\n",
    "    plt.plot(t, y1, label=\"sardines\")\n",
    "    plt.plot(t, y2, label=\"requins\")\n",
    "    plt.legend()\n",
    "    plt.show()\n",
    "\n",
    "# SIMULATION 3 : évolution de H\n",
    "\n",
    "def simulation3():\n",
    "    V = solve_euler_explicit(F, x0, 0, 300, 0.1)\n",
    "    t = V[0]\n",
    "    y = [H(x) for x in V[1]]\n",
    "    plt.plot(t, y, label=\"H(t)\")\n",
    "    plt.legend()\n",
    "    plt.show()"
   ]
  },
  {
   "cell_type": "code",
   "execution_count": null,
   "metadata": {},
   "outputs": [],
   "source": [
    "simulation2()"
   ]
  },
  {
   "source": [
    "En temps long, les solutions numériques présentent une alterance de pics de hauteur divergeant vers $+\\infty$ et d'abaissement à des valeurs trsè faibles, ce qui n'est pas réaliste. On s'attend plutôt à observer des oscillations presque périodiques et d'amplitude moins importante."
   ],
   "cell_type": "markdown",
   "metadata": {}
  },
  {
   "cell_type": "code",
   "execution_count": null,
   "metadata": {},
   "outputs": [],
   "source": [
    "simulation3()"
   ]
  },
  {
   "source": [
    "De même H n'est pas conservée mais croît vers $+\\infty$"
   ],
   "cell_type": "markdown",
   "metadata": {}
  },
  {
   "source": [
    "Question 8 :"
   ],
   "cell_type": "markdown",
   "metadata": {}
  },
  {
   "cell_type": "code",
   "execution_count": null,
   "metadata": {},
   "outputs": [],
   "source": [
    "def fonction_point_fixe(x0, t0, dt, f): #retourne la fonction g_n dont on recherche un point fixe à l'itération n du schéma d'Euler implicite\n",
    "    def g(x):\n",
    "        return x0 + dt*f(t0+dt, x)\n",
    "    return g\n",
    "\n",
    "def cherche_point_fixe(f, x0, itermax): #retourne le point fixe de la foonction prise en argumnt à condition qu'elle soit assez contractante\n",
    "    x = x0\n",
    "    x_ = f(x0)\n",
    "    k = 0\n",
    "    while linalg.norm(x - x_)/linalg.norm(x0) >= 10E-3:\n",
    "        x_, x = f(x_), f(x)\n",
    "        k += 1\n",
    "        if k == itermax :\n",
    "            raise Exception(\"pas de point fixe trouvé\")\n",
    "    return x_\n",
    "\n",
    "def solve_euler_implicit(f, x0, t0, tf, dt, itermax = 100):\n",
    "    x = x0\n",
    "    t = np.array([[t0]])\n",
    "    X, T = x0, t0\n",
    "    while T < tf :\n",
    "        X_, T_ = X, T\n",
    "        g = fonction_point_fixe(X_, T_, dt, f)\n",
    "        X = cherche_point_fixe(g, X_ + dt*f(T_, X_), itermax)\n",
    "        T += dt\n",
    "        x = np.append(x, X, axis = 0)\n",
    "        t = np.append(t, np.array([[T]]), axis = 0)\n",
    "    return t, x"
   ]
  },
  {
   "source": [
    "On vérifie la convergence du schéma sur l'équation différentielle $\\dot x = x$ avec la condition initiale $x(0) = 1$, dont la solution est exp."
   ],
   "cell_type": "markdown",
   "metadata": {}
  },
  {
   "cell_type": "code",
   "execution_count": null,
   "metadata": {},
   "outputs": [],
   "source": [
    "# SIMULATION 4 : convergence du schéma vers exp\n",
    "\n",
    "def simulation4():\n",
    "    t, y1 = solve_euler_implicit(g, x1, 0, 2, 0.1)\n",
    "    t2, y2 = solve_euler_implicit(g, x1, 0, 2, 0.01)\n",
    "    y3 = np.exp(t)\n",
    "    plt.plot(t, y1, label=\"dt = 0.1\")\n",
    "    plt.plot(t2, y2, label=\"dt = 0.01\")\n",
    "    plt.plot(t, y3, label=\"exp(t)\")\n",
    "    plt.legend()\n",
    "    plt.show()"
   ]
  },
  {
   "cell_type": "code",
   "execution_count": null,
   "metadata": {},
   "outputs": [],
   "source": [
    "simulation4()"
   ]
  },
  {
   "source": [
    "On applique ce nouveau schéma aux équations de Lotka et Volterra :"
   ],
   "cell_type": "markdown",
   "metadata": {}
  },
  {
   "cell_type": "code",
   "execution_count": null,
   "metadata": {},
   "outputs": [],
   "source": [
    "# SIMULATION 5 : application au système de Lotka et Volterra\n",
    "\n",
    "def simulation5():\n",
    "    V = solve_euler_implicit(F, x0, 0, 50, 0.1)\n",
    "    t = V[0]\n",
    "    y1 = [y[0] for y in V[1]]\n",
    "    y2 = [y[1] for y in V[1]]\n",
    "    plt.plot(t, y1, label=\"sardines\")\n",
    "    plt.plot(t, y2, label=\"requins\")\n",
    "    plt.legend()\n",
    "    plt.show()"
   ]
  },
  {
   "cell_type": "code",
   "execution_count": null,
   "metadata": {},
   "outputs": [],
   "source": [
    "simulation5()"
   ]
  },
  {
   "source": [
    "Cette fois-ci, après un régime transitoire assez long et composé d'oscillations à l'allure réaliste (l'augmentation du nombre de requins est suivi par un abaissemnt de la population de sardines qui induit une baisse du nombre de requins...), la solution numérique se stabilisent en $\\bar x$."
   ],
   "cell_type": "markdown",
   "metadata": {}
  },
  {
   "source": [
    "Question 9 :"
   ],
   "cell_type": "markdown",
   "metadata": {}
  },
  {
   "source": [
    "Soit $u : \\mathbb{R}^2 \\rightarrow \\mathbb{R}^2$ une fonction continûment différentiable.\n",
    "Soit $F : (\\mathbb{R}_{+}^{*})^2 \\rightarrow \\mathbb{R}^2$ définie par :\n",
    "$$ F(x_1, x_2) =(x_1(\\alpha − \\beta x_2) − u_1(x_1, x_2)(H(x_1, x_2) − H_0),−x_2(\\gamma − \\delta x_1) − u_2(x_1, x_2)(H(x_1, x_2) − H_0))$$\n",
    "F est continûment différentiable sur $(\\mathbb{R}_{+}^{*})^2$ puisqu'elle est obtenue par produits et sommes de telles fonctions. Alors, par théorème de Cauchy-Lipschitz, pour tout $(x_0, t_0) \\in (\\mathbb{R}_{+}^{*})^2 \\times \\mathbb{R}_{+}$, il existe une unique solution maximale à l'équation différentielle $\\dot x = F(t, x)$ initialisée en $x(t_0) = x_0$. \n",
    "H étant conservée le long des solutions du système de Lotka et Volterra, la solution x du système de Lotka et Volterra initialisée en $x(t_0) = x_0$ et défiinie sur $\\mathbb{R}_+ est une solution globale de l'équation différentielle précédente, donc il s'agit de sa solution maximale. \n",
    "Les solutions maximale des deux équations sont donc identiques."
   ],
   "cell_type": "markdown",
   "metadata": {}
  },
  {
   "source": [
    "Question 10"
   ],
   "cell_type": "markdown",
   "metadata": {}
  },
  {
   "source": [
    "Soient $(x_0, t_0) \\in (\\mathbb{R}_{+}^{*})^2$ avec $x_0 \\ne \\bar x$  \\times \\mathbb{R}_{+}$, $x = (x_1, x_2)$ la solution maximale du nouveau système différentiel étudié. Alors pour tout t positif :\n",
    "\n",
    "$$\n",
    "\\dfrac{d}{dt}(H(x(t)) - H(x_0)) = \\dfrac{dx_1}{dt}(t) . \\partial_1 H(x(t)) + \\dfrac{dx_2}{dt}(t) . \\partial_2 H(x(t)) \\\\\n",
    "= x_1(t).(\\alpha − \\beta x_2(t)) − u_1(x(t)).(H(x(t)) − H_0).(\\delta - \\dfrac{\\gamma}{x_1(t)}) − x_2(t).(\\gamma − \\delta x_1(t)) + u_2(x(t)).(H(x(t)) − H_0).(\\beta - \\dfrac{\\alpha}{x_2(t)})\\\\\n",
    "= -(u_1(x(t)) + u_2(x(t))) . (H(x(t)) − H_0) \n",
    "$$\n",
    "\n",
    "Alors en définissant u sur $(\\mathbb{R}_{+}^{*})^2$ par $u(x_1, x_2) = (-k.(\\delta - \\dfrac{\\gamma}{x_1})^2, -k.(\\beta - \\dfrac{\\alpha}{x_2})^2)$, on obtient, pour tout t positif l'équation différentielle (1):\n",
    "\n",
    "$$\\dfrac{d}{dt}(H(x(t)) - H(x_0)) = -k.||\\nabla H(t)||^2.(H(x(t)) - H(x_0))$$\n",
    "\n",
    "On suppose par ailleurs que x reste à une distance strictement positive de $\\bar x$ quand t tend vers $+\\infty$, c'est-à-dire qu'il existe un réel $ c > 0$ tel que pour tout $t \\in \\mathbb{R}_{+}$, on ait $||x(t) - \\bar x|| > c$. \n",
    "D'autre part il existe $c' > 0$ tel que pour tout $x \\in \\mathbb{R}_{+}^{*})^2$, $||x(t) - \\bar x|| > c \\implies ||\\nabla H(x)||^2 > c'$. En effet, si l'on suppose par l'absudre que pour tout $c' > 0$, il existe $x \\in mathbb{R}_{+}^{*})^2$ tel que $||x(t) - \\bar x|| > c$ et $||\\nabla H(x)||^2 \\le c'$, alors pour tout $k \\in \\mathbb{N}$, il existe $x_k = (x_{k1}, x_{k2}) \\in \\mathbb{R}_{+}^{*})^2$ tel que $||x(t) - \\bar x|| > c$ et $||\\nabla H(x)||^2 \\le \\dfrac{1}{k}$. Alors pour tout $k \\in \\mathbb{N}$, on aurait :\n",
    "$$ (\\delta - \\dfrac{\\gamma}{x_{k1}})^2 \\le \\dfrac{1}{k} \\hspace{1cm} \\mbox{et} \\hspace{1cm} (\\beta - \\dfrac{\\alpha}{x_{k2}})^2 \\le \\dfrac{1}{k} $$\n",
    "Soit pour tout $k$ assez grand :\n",
    "$$ \\dfrac{\\gamma}{\\delta + \\dfrac{1}{\\sqrt k}} \\le x_{k1} \\le \\dfrac{\\gamma}{\\delta - \\dfrac{1}{\\sqrt k}} \\hspace{1cm} \\mbox{et} \\hspace{1cm} \\dfrac{\\alpha}{\\beta + \\dfrac{1}{\\sqrt k}} \\le x_{k2} \\le \\dfrac{\\alpha}{\\beta - \\dfrac{1}{\\sqrt k}}$$\n",
    "Alors la suite $(x_k)_{k \\in \\mathbb{N}}$ converge vers $\\bar x$ ce qui contredit la distance minimale $c > 0$ exigée entre $x_k$ et $\\bar x$ pour tout $k \\in \\mathbb{N}$.\n",
    "Mais alors, en résolvant l'équation différentielle (1), on obtient, pour tout $t \\in \\mathbb{R}_{+}$ :\n",
    "$$ |H(x(t))- H(x_0)| = Ae^{-k\\int_0^t ||\\nabla H(s)||^2 \\, \\mathrm ds} \\le Ae^{-k\\int_0^t c' \\, \\mathrm ds} = Ae^{-kc't}$$\n",
    "où A est une constante réelle positive.\n",
    "\n",
    "$H(x(t))$ converge explonentiellement vers $H(x_0)$"
   ],
   "cell_type": "markdown",
   "metadata": {}
  },
  {
   "source": [
    "Question 11"
   ],
   "cell_type": "markdown",
   "metadata": {}
  },
  {
   "source": [
    "Pour stabiliser H, il faudrait alors appliquer le schéma d'Euler à la fonction F précédente et non plus à la fonction que nous utilisions jusqu'ici dans nos simulations. #malheureusement ça ne fonctionne pas\n",
    "$k$ a pour rôle d'accélérer la convergence de H. En effet, c' peut être très faible pour une trajectoire passant très près d' $\\bar x$. Mais il ne peut pas être arbitrairement grand : au premier ordre en dt on a pour $j \\in \\mathbb{N}^{*}$:\n",
    "\n",
    "$$(H(x^{j+1}) - H(x_0)) = (1 - kdt.||\\nabla H(x(t^j))||^2).(H(x^{j}) - H(x_0))$$\n",
    "\n",
    "Un k trop grand pourrait alors entrainer la divergence de H, par exemple si il existe $\\epsilon > 0$ tel que pour tout $ j \\in \\mathbb{N}$, $|1 - kdt.||\\nabla H(x(t^j))||^2| > 1 + \\epsilon$. La suite $(H(x^{j+1}) - H(x_0))_{j \\in \\mathbb{N}}$ serait alors divergente (à moins d'être initialisée à 0) car elle dominerait une suite géométrique de raison de module strictement supérieur à 1"
   ],
   "cell_type": "markdown",
   "metadata": {}
  }
 ]
}
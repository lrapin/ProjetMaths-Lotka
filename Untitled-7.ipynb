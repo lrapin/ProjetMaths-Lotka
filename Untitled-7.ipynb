{
 "cells": [
  {
   "cell_type": "markdown",
   "metadata": {},
   "source": [
    "# Question 1\n",
    "\n",
    "## **Dynamique du système**\n",
    "\n",
    "On suppose que les proies se reproduisent de manière exponentielle et que la diminution de leur population est liée aux recontres avec les prédateurs.\n",
    "On suppose également que les prédateurs ont une mortalité exponentielle. La population des prédateurs augmente lorsqu'ils rencontrent des proies.\n",
    "\n",
    "|$\\dot{x_1} =$|$\\alpha x_1$|$-\\beta x_1 x_2$|\n",
    "|:--------------:|:------------------:|:---------------------------:|\n",
    "|évolution proies| naissance naturelle proies|rencontre proies prédateurs|\n",
    "</br>\n",
    "\n",
    "|$\\dot{x_2} =$|$-\\gamma x_2$|$+\\delta x_1 x_2$|\n",
    "|:------------------:|:-------------------------------:|:-----------:|\n",
    "|évolution prédateurs|mortalité naturelle prédateurs|rencontre proie prédateurs|\n",
    "</br>\n",
    "\n",
    "## **Points d'équilibre**\n",
    "\n",
    "$x$ est un point d'équilibre si et seulement $\\dot{x} = 0$\n",
    "\n",
    "$\\Leftrightarrow\n",
    "\\begin{pmatrix}\n",
    "x_1 = 0 & ou & \\alpha = \\beta x_2 \\\\\n",
    "x_2 = 0 & ou & \\gamma = \\delta x_1\n",
    "\\end{pmatrix}$\n",
    "\n",
    "$\\Leftrightarrow\n",
    "x = 0 \\;$ ou $\\; \\bar{x} = (\\frac{\\gamma}{\\delta}, \\frac{\\alpha}{\\beta})$\n",
    "\n",
    "En effet, si $x_1 = 0\\,$, alors $x_2 = 0$ nécessairement car il n'est pas possible que $x_1 = \\frac{\\gamma}{\\delta} > 0$\n"
   ]
  },
  {
   "cell_type": "markdown",
   "metadata": {},
   "source": [
    "# Question 2"
   ]
  },
  {
   "cell_type": "code",
   "execution_count": null,
   "metadata": {},
   "outputs": [],
   "source": [
    "#Affiche un champ de dérivées de positions avec quiver ou streamplot\n",
    "\n",
    "import numpy as np\n",
    "import matplotlib.pyplot as plt\n",
    "from numpy import linalg\n",
    "\n",
    "x1 = np.linspace(0,20,21)\n",
    "x2 = np.linspace(0,20,21)\n",
    "X1, X2 = np.meshgrid(x1, x2) #Champ des positions\n",
    "\n",
    "def F(X1, X2):\n",
    "    #Fonction qui retourne la dérivée de la position pour Lotka - Volterra\n",
    "    alpha = 2\n",
    "    beta = 1\n",
    "    gamma = 4\n",
    "    delta = 1\n",
    "    return X1*(alpha - beta*X2), -X2*(gamma - delta*X1)\n",
    "\n",
    "U, V = F(X1, X2) #champ des dérivées\n",
    "\n",
    "fig = plt.figure(figsize = (12,6))\n",
    "\n",
    "ax1 = plt.subplot(121)\n",
    "ax1.quiver(X1, X2, U, V)\n",
    "\n",
    "ax2 = plt.subplot(122)\n",
    "ax2.streamplot(X1, X2, U, V, density=1)\n",
    "plt.show()"
   ]
  },
  {
   "cell_type": "markdown",
   "metadata": {},
   "source": [
    "# Question 3\n",
    "\n",
    "Les équations de Lotka-Volterra peuvent se réécrire : $\\dot{x} = f(x)$\n",
    "\n",
    "avec\n",
    "$f :\n",
    "\\begin{matrix}\n",
    "\\mathbb{R}_{>0}\\times \\mathbb{R}_{>0} \\rightarrow \\mathbb{R}\\times \\mathbb{R} \\\\\n",
    "\\;\\;\\;\\;\\;(x_1, x_2) \\rightarrow\n",
    "\\begin{pmatrix}\n",
    "\\alpha x_1 - \\beta  x_1 x_2\\\\\n",
    "-\\gamma x_2 + \\delta x_1 x_2\n",
    "\\end{pmatrix}\n",
    "\\end{matrix}\n",
    "$\n",
    "est continue\n",
    "\n",
    "et comme\n",
    "\n",
    "$(t,x) \\rightarrow \\partial_xf(t, x) =\n",
    "\\begin{pmatrix}\n",
    " \\alpha - \\beta x_2 & -\\beta x_1 \\\\\n",
    " \\delta x_2 & -\\gamma + \\delta x_1\n",
    "\\end{pmatrix}$ existe et est continue sur $\\mathbb{R} \\times \\mathbb{R_{>0}^2}$ alors f est continuement différentiable par rapport à $x$.\n",
    "\n",
    "Par le théorème de Cauchy-Lipschitz, pour tout $x_0 \\in \\mathbb{R_{>0}^2}$, il existe une solution maximale unique $x : I \\rightarrow \\mathbb{R^2}$ dans $S_f(x_0)$\n",
    "\n",
    "Si $x_1(t_0) = 0$ et $x_2(t_0) > 0$, alors par le théorème de Cauchy-Lipschitz,\n",
    "\n",
    "$\n",
    "\\left\\{\\begin{matrix}\n",
    "x_1(t) = x_1(t_0) = 0 \\;\\;\\;\\;\\;\\;\\;\\;\\;\\\\\n",
    "x_2(t) = x_2(t_0) * e^{-\\gamma(t-t_0)}\n",
    "\\end{matrix}\\right.\n",
    "\\;\\;$\n",
    "est l'unique solution passant par $(0, x_2(t_0))$.\n",
    "\n",
    "De même, si $x_1(t_0) > 0$ et $x_2(t_0) = 0$,\n",
    "\n",
    "$\n",
    "\\left\\{\\begin{matrix}\n",
    "x_1(t) = x_1(t_0) * e^{\\alpha(t-t_0)}\\\\\n",
    "x_2(t) = x_2(t_0) = 0 \\;\\;\\;\\;\\;\\;\\;\\;\\;\n",
    "\\end{matrix}\\right.\n",
    "\\;\\;$\n",
    "est l'unique solution passant par $(x_1(t_0), 0)$.\n",
    "\n",
    "Ainsi, si\n",
    "$\n",
    "\\left\\{\\begin{matrix}\n",
    "x_1(t_0) > 0\\\\\n",
    "x_2(t_0) > 0\n",
    "\\end{matrix}\\right.\n",
    "\\;\\;$\n",
    "alors\n",
    "$\n",
    "\\left\\{\\begin{matrix}\n",
    "x_1(t) > 0\\\\\n",
    "x_2(t) > 0\n",
    "\\end{matrix}\\right.\n",
    "\\;\\forall t\\;$\n",
    "\n",
    "En effet, si $\\exists \\tau, \\;x_1(\\tau) = 0$, alors $\\forall t,\\, x_1(t) = 0$, notamment pour $t=t_0$, ce qui est absurde car $x_1(t_0) > 0$. De même par rapport à $x_2$. De plus, il ne peut pas exister de $t$ tel que $x_1(t) <0$ car on se retrouverait dans le cas précédent par théorème des valeurs intermédiaires.\n"
   ]
  },
  {
   "cell_type": "markdown",
   "metadata": {},
   "source": [
    "# Question 4\n",
    "\n",
    "Grâce au théorème de Cauchy-Lipschitz, nous avons qu'il existe une unique solution mamximale locale (défini sur un intervalle de temps fini) pour toutes conditions initiales dans $\\mathbb{R_{>0}^2}$. Nous cherchons maintenant à prolonger ces solutions dans $\\mathbb{R}$ tout entier.\n",
    "\n",
    "Nous commencons par calculer la dérivée de $H(x1, x2) = δx1 − γ ln(x1) + βx2 − α ln(x2)$ :\n",
    "\n",
    "$\\frac{d}{dt}(H(x_1, x_2)) = < \\nabla H(x_1, x_2), f(x_1, x_2)>$\n",
    "\n",
    "Donc\n",
    "$\\begin{matrix}\n",
    "    &   \\begin{pmatrix}\n",
    "        \\alpha x_1 - \\beta  x_1 x_2\\\\\n",
    "        -\\gamma x_2 + \\delta x_1 x_2\n",
    "        \\end{pmatrix}   \\\\\n",
    "\\frac{d}{dt}(H(x_1, x_2)) =\n",
    "\\begin{pmatrix}\n",
    "\\delta - \\frac{\\gamma}{x_1} & \\beta - \\frac{\\alpha}{x_2}\\\\\n",
    "\\end{pmatrix}\n",
    "    &   \\begin{pmatrix}\n",
    "        \\;\\;\\;0\\;\\;\\;\\\\\n",
    "        \\end{pmatrix}\n",
    "\\end{matrix}$\n",
    "\n",
    "Ainsi $H$ est une constante : $H(x_1, x_2) = H_0$. Nous pouvons ainsi montrer que $f(x_1, x_2)$ est bornée.\n",
    "\n",
    "En effet, $\\exists A, B> 0,\\; \\forall x_1>A, \\forall x_2>B,$\n",
    "$\n",
    "\\left\\{\\begin{matrix}\n",
    "\\gamma*ln(x_1) < \\frac{\\delta x_1}{2}\\\\\n",
    "\\alpha*ln(x_2) < \\frac{\\beta x_2}{2}\n",
    "\\end{matrix}\\right.\n",
    "$\n",
    "\n",
    "Ainsi, si $(x_1, x_2)\\notin[-A, A]\\times[-B, B]$, $ H_0 > \\frac{1}{2}*(\\delta x_1 +\\beta x_2)$\n",
    "\n",
    "donc $(x_1(t), x_2(t))$ est bornée. En appliquant la réciproque du théorème du domaine maximal d'existence, on prouve alors que toute solution maximale est définie sur $\\mathbb{R}$ tout entier.\n"
   ]
  },
  {
   "cell_type": "markdown",
   "metadata": {},
   "source": [
    "# Question 5"
   ]
  },
  {
   "cell_type": "code",
   "execution_count": null,
   "metadata": {},
   "outputs": [],
   "source": [
    "#Question 5\n",
    "import numpy as np\n",
    "import matplotlib.pyplot as plt\n",
    "delta = 1\n",
    "gamma = 4\n",
    "beta = 1\n",
    "alpha = 2\n",
    "\n",
    "def H(x1, x2):\n",
    "    return delta*x1 - gamma*np.log(x1) + beta*x2 - alpha*np.log(x2)\n",
    "\n",
    "x1 = np.linspace(0.1,10,1001)\n",
    "x2 = np.linspace(0.1,10,1001)\n",
    "X1, X2 = np.meshgrid(x1, x2) #Champ des positions\n",
    "Z=H(X1, X2)\n",
    "plt.figure(figsize = (6,6))\n",
    "graphe = plt.contour(X1, X2, Z, np.linspace(-2, 7, 20))\n",
    "plt.title(\"Courbes de niveau de H\")\n",
    "plt.scatter(gamma/delta, alpha/beta, label=\"Point d'équilibre\")\n",
    "plt.grid()\n",
    "plt.legend()\n",
    "plt.show()"
   ]
  },
  {
   "cell_type": "markdown",
   "metadata": {},
   "source": [
    "Ca te dit de faire une cellule pour les imports et les aramçtres alpha beta etc en début de notebook ?"
   ]
  },
  {
   "cell_type": "markdown",
   "metadata": {},
   "source": [
    "# Question 6 :"
   ]
  },
  {
   "cell_type": "code",
   "execution_count": null,
   "metadata": {},
   "outputs": [],
   "source": [
    "def solve_euler_explicit(f, x0, t0, tf, dt):\n",
    "    x = x0\n",
    "    t = np.array([[t0]])\n",
    "    X, T = x0, t0\n",
    "    while T < tf :\n",
    "        X_, T_ = X, T\n",
    "        X = X + dt*f(T_, X_)\n",
    "        T += dt\n",
    "        x = np.append(x, X, axis = 0)\n",
    "        t = np.append(t, np.array([[T]]), axis = 0)\n",
    "    return t, x"
   ]
  },
  {
   "cell_type": "markdown",
   "metadata": {},
   "source": [
    "On vérifie la convergence du schéma sur l'équation différentielle $\\dot x = x$ avec la condition initiale $x(0) = 1$, dont la solution est exp."
   ]
  },
  {
   "cell_type": "code",
   "execution_count": null,
   "metadata": {},
   "outputs": [],
   "source": [
    "def g(t, x):\n",
    "    return x\n",
    "\n",
    "x1 = np.array([[1]])\n",
    "\n",
    "# SIMULATION 1 : convergence du schéma vers exp\n",
    "\n",
    "def simulation1():\n",
    "    t, y1 = solve_euler_explicit(g, x1, 0, 2, 0.1)\n",
    "    t2, y2 = solve_euler_explicit(g, x1, 0, 2, 0.01)\n",
    "    y3 = np.exp(t)\n",
    "    plt.plot(t, y1, label=\"dt = 0.1\")\n",
    "    plt.plot(t2, y2, label=\"dt = 0.01\")\n",
    "    plt.plot(t, y3, label=\"exp(t)\")\n",
    "    plt.legend()\n",
    "    plt.show()"
   ]
  },
  {
   "cell_type": "code",
   "execution_count": null,
   "metadata": {},
   "outputs": [],
   "source": [
    "simulation1()"
   ]
  },
  {
   "cell_type": "markdown",
   "metadata": {},
   "source": [
    "L'ordre de convergence est lié à l'écart entre la solution réelle et la solution numérique. On peut l'observer graphiquement en relevant l'erreur et en l'exprimant en fonction de dt. Dans le cas qui nous occupe, le schéma d'Euler étant convergent d'ordre 1, on s'attend à ce que l'erreur soit de l'ordre de $dt^2$ quand dt tend vers 0."
   ]
  },
  {
   "cell_type": "markdown",
   "metadata": {},
   "source": [
    "# Question 7 :"
   ]
  },
  {
   "cell_type": "code",
   "execution_count": null,
   "metadata": {},
   "outputs": [],
   "source": [
    "x0 = np.array([[2, 0.1]])\n",
    "\n",
    "def F(t, x):\n",
    "    x1 = x[0][0]\n",
    "    x2 = x[0][1]\n",
    "    return np.array([[alpha*x1 - beta*x1*x2, -gamma*x2 + delta*x1*x2]])\n",
    "\n",
    "# SIMULATION 2 : application au système de Lotka et Volterra\n",
    "\n",
    "def simulation2():\n",
    "    V = solve_euler_explicit(F, x0, 0, 300, 0.1)\n",
    "    t = V[0]\n",
    "    y1 = [y[0] for y in V[1]]\n",
    "    y2 = [y[1] for y in V[1]]\n",
    "    plt.plot(t, y1, label=\"sardines\")\n",
    "    plt.plot(t, y2, label=\"requins\")\n",
    "    plt.legend()\n",
    "    plt.show()\n",
    "\n",
    "# SIMULATION 3 : évolution de H\n",
    "\n",
    "def simulation3():\n",
    "    V = solve_euler_explicit(F, x0, 0, 300, 0.1)\n",
    "    t = V[0]\n",
    "    y = [H(x1, x2) for (x1, x2) in V[1]]\n",
    "    plt.plot(t, y, label=\"H(t)\")\n",
    "    plt.legend()\n",
    "    plt.show()"
   ]
  },
  {
   "cell_type": "code",
   "execution_count": null,
   "metadata": {},
   "outputs": [],
   "source": [
    "simulation2()"
   ]
  },
  {
   "cell_type": "markdown",
   "metadata": {},
   "source": [
    "En temps long, les solutions numériques présentent une alterance de pics de hauteur divergeant vers $+\\infty$ et d'abaissement à des valeurs trsè faibles, ce qui n'est pas réaliste. On s'attend plutôt à observer des oscillations presque périodiques et d'amplitude moins importante."
   ]
  },
  {
   "cell_type": "code",
   "execution_count": null,
   "metadata": {},
   "outputs": [],
   "source": [
    "simulation3()"
   ]
  },
  {
   "cell_type": "markdown",
   "metadata": {},
   "source": [
    "De même H n'est pas conservée mais croît vers $+\\infty$"
   ]
  },
  {
   "cell_type": "markdown",
   "metadata": {},
   "source": [
    "# Question 8 :"
   ]
  },
  {
   "cell_type": "code",
   "execution_count": null,
   "metadata": {},
   "outputs": [],
   "source": [
    "def fonction_point_fixe(x0, t0, dt, f): #retourne la fonction g_n dont on recherche un point fixe à l'itération n du schéma d'Euler implicite\n",
    "    def g(x):\n",
    "        return x0 + dt*f(t0+dt, x)\n",
    "    return g\n",
    "\n",
    "def cherche_point_fixe(f, x0, itermax): #retourne le point fixe de la foonction prise en argumnt à condition qu'elle soit assez contractante\n",
    "    x = x0\n",
    "    x_ = f(x0)\n",
    "    k = 0\n",
    "    while linalg.norm(x - x_)/linalg.norm(x0) >= 10E-3:\n",
    "        x_, x = f(x_), f(x)\n",
    "        k += 1\n",
    "        if k == itermax :\n",
    "            raise Exception(\"pas de point fixe trouvé\")\n",
    "    return x_\n",
    "\n",
    "def solve_euler_implicit(f, x0, t0, tf, dt, itermax = 100):\n",
    "    x = x0\n",
    "    t = np.array([[t0]])\n",
    "    X, T = x0, t0\n",
    "    while T < tf :\n",
    "        X_, T_ = X, T\n",
    "        g = fonction_point_fixe(X_, T_, dt, f)\n",
    "        X = cherche_point_fixe(g, X_ + dt*f(T_, X_), itermax)\n",
    "        T += dt\n",
    "        x = np.append(x, X, axis = 0)\n",
    "        t = np.append(t, np.array([[T]]), axis = 0)\n",
    "    return t, x"
   ]
  },
  {
   "cell_type": "markdown",
   "metadata": {},
   "source": [
    "On vérifie la convergence du schéma sur l'équation différentielle $\\dot x = x$ avec la condition initiale $x(0) = 1$, dont la solution est exp."
   ]
  },
  {
   "cell_type": "code",
   "execution_count": null,
   "metadata": {},
   "outputs": [],
   "source": [
    "# SIMULATION 4 : convergence du schéma vers exp\n",
    "\n",
    "def simulation4():\n",
    "    t, y1 = solve_euler_implicit(g, x1, 0, 2, 0.1)\n",
    "    t2, y2 = solve_euler_implicit(g, x1, 0, 2, 0.01)\n",
    "    y3 = np.exp(t)\n",
    "    plt.plot(t, y1, label=\"dt = 0.1\")\n",
    "    plt.plot(t2, y2, label=\"dt = 0.01\")\n",
    "    plt.plot(t, y3, label=\"exp(t)\")\n",
    "    plt.legend()\n",
    "    plt.show()"
   ]
  },
  {
   "cell_type": "code",
   "execution_count": null,
   "metadata": {},
   "outputs": [],
   "source": [
    "simulation4()"
   ]
  },
  {
   "cell_type": "markdown",
   "metadata": {},
   "source": [
    "On applique ce nouveau schéma aux équations de Lotka et Volterra :"
   ]
  },
  {
   "cell_type": "code",
   "execution_count": null,
   "metadata": {},
   "outputs": [],
   "source": [
    "# SIMULATION 5 : application au système de Lotka et Volterra\n",
    "\n",
    "def simulation5():\n",
    "    V = solve_euler_implicit(F, x0, 0, 50, 0.1)\n",
    "    t = V[0]\n",
    "    y1 = [y[0] for y in V[1]]\n",
    "    y2 = [y[1] for y in V[1]]\n",
    "    plt.plot(t, y1, label=\"sardines\")\n",
    "    plt.plot(t, y2, label=\"requins\")\n",
    "    plt.legend()\n",
    "    plt.show()"
   ]
  },
  {
   "cell_type": "code",
   "execution_count": null,
   "metadata": {},
   "outputs": [],
   "source": [
    "simulation5()"
   ]
  },
  {
   "cell_type": "markdown",
   "metadata": {},
   "source": [
    "Cette fois-ci, après un régime transitoire assez long et composé d'oscillations à l'allure réaliste (l'augmentation du nombre de requins est suivi par un abaissemnt de la population de sardines qui induit une baisse du nombre de requins...), la solution numérique se stabilisent en $\\bar x$."
   ]
  },
  {
   "cell_type": "markdown",
   "metadata": {},
   "source": [
    "# Question 9 :"
   ]
  },
  {
   "cell_type": "markdown",
   "metadata": {},
   "source": [
    "Soit $u : \\mathbb{R}^2 \\rightarrow \\mathbb{R}^2$ une fonction continûment différentiable.\n",
    "Soit $F : (\\mathbb{R}_{+}^{*})^2 \\rightarrow \\mathbb{R}^2$ définie par :\n",
    "$$ F(x_1, x_2) =(x_1(\\alpha − \\beta x_2) − u_1(x_1, x_2)(H(x_1, x_2) − H_0),−x_2(\\gamma − \\delta x_1) − u_2(x_1, x_2)(H(x_1, x_2) − H_0))$$\n",
    "F est continûment différentiable sur $(\\mathbb{R}_{+}^{*})^2$ puisqu'elle est obtenue par produits et sommes de telles fonctions. Alors, par théorème de Cauchy-Lipschitz, pour tout $(x_0, t_0) \\in (\\mathbb{R}_{+}^{*})^2 \\times \\mathbb{R}_{+}$, il existe une unique solution maximale à l'équation différentielle $\\dot x = F(t, x)$ initialisée en $x(t_0) = x_0$. \n",
    "H étant conservée le long des solutions du système de Lotka et Volterra, la solution $x$ du système de Lotka et Volterra initialisée en $x(t_0) = x_0$ et défiinie sur $\\mathbb{R}_+$ est une solution globale de l'équation différentielle précédente, donc il s'agit de sa solution maximale. \n",
    "Les solutions maximale des deux équations sont donc identiques."
   ]
  },
  {
   "cell_type": "markdown",
   "metadata": {},
   "source": [
    "# Question 10"
   ]
  },
  {
   "cell_type": "markdown",
   "metadata": {},
   "source": [
    "Soient $(x_0, t_0) \\in (\\mathbb{R}_{+}^{*})^2$ avec $x_0 \\ne \\bar x$, $x = (x_1, x_2)$ la solution maximale du nouveau système différentiel étudié. Alors pour tout t positif :\n",
    "\n",
    "$$\n",
    "\\begin{align} \\dfrac{d}{dt}(H(x(t)) - H(x_0)) &= \\dfrac{dx_1}{dt}(t) . \\partial_1 H(x(t)) + \\dfrac{dx_2}{dt}(t) . \\partial_2 H(x(t)) \\newline \n",
    "&= x_1(t).(\\alpha−\\beta x_2(t))−u_1(x(t)).(H(x(t))−H_0).(\\delta-\\dfrac{\\gamma}{x_1(t)}) \\newline \n",
    "&− x_2(t).(\\gamma − \\delta x_1(t)) + u_2(x(t)).(H(x(t)) − H_0).(\\beta - \\dfrac{\\alpha}{x_2(t)}) \\newline\n",
    "&= -(u_1(x(t)) + u_2(x(t))) . (H(x(t)) − H_0) \\end{align}\n",
    "$$\n",
    "\n",
    "Alors en définissant u sur $(\\mathbb{R}_{+}^{*})^2$ par $u(x_1, x_2) = (-k(\\delta - \\dfrac{\\gamma}{x_1})^2, -k(\\beta - \\dfrac{\\alpha}{x_2})^2)$, on obtient, pour tout t positif l'équation différentielle (1):\n",
    "\n",
    "$$\\dfrac{d}{dt}(H(x(t)) - H(x_0)) = -k.||\\nabla H(t)||^2.(H(x(t)) - H(x_0))$$\n",
    "\n",
    "On suppose par ailleurs que x reste à une distance strictement positive de $\\bar x$ quand t tend vers $+\\infty$, c'est-à-dire qu'il existe un réel $ c > 0$ tel que pour tout $t \\in \\mathbb{R}_{+}$, on ait $||x(t) - \\bar x|| > c$. \n",
    "D'autre part il existe $c' > 0$ tel que pour tout $x \\in \\mathbb{R}_{+}^{*})^2$, $||x(t) - \\bar x|| > c \\implies ||\\nabla H(x)||^2 > c'$. En effet, si l'on suppose par l'absudre que pour tout $c' > 0$, il existe $x \\in mathbb{R}_{+}^{*})^2$ tel que $||x(t) - \\bar x|| > c$ et $||\\nabla H(x)||^2 \\le c'$, alors pour tout $k \\in \\mathbb{N}$, il existe $x_k = (x_{k1}, x_{k2}) \\in \\mathbb{R}_{+}^{*})^2$ tel que $||x(t) - \\bar x|| > c$ et $||\\nabla H(x)||^2 \\le \\dfrac{1}{k}$. Alors pour tout $k \\in \\mathbb{N}$, on aurait :\n",
    "$$ (\\delta - \\dfrac{\\gamma}{x_{k1}})^2 \\le \\dfrac{1}{k} \\hspace{1cm} \\mbox{et} \\hspace{1cm} (\\beta - \\dfrac{\\alpha}{x_{k2}})^2 \\le \\dfrac{1}{k} $$\n",
    "Soit pour tout $k$ assez grand :\n",
    "$$ \\dfrac{\\gamma}{\\delta + \\dfrac{1}{\\sqrt k}} \\le x_{k1} \\le \\dfrac{\\gamma}{\\delta - \\dfrac{1}{\\sqrt k}} \\hspace{1cm} \\mbox{et} \\hspace{1cm} \\dfrac{\\alpha}{\\beta + \\dfrac{1}{\\sqrt k}} \\le x_{k2} \\le \\dfrac{\\alpha}{\\beta - \\dfrac{1}{\\sqrt k}}$$\n",
    "Alors la suite $(x_k)_{k \\in \\mathbb{N}}$ converge vers $\\bar x$ ce qui contredit la distance minimale $c > 0$ exigée entre $x_k$ et $\\bar x$ pour tout $k \\in \\mathbb{N}$.\n",
    "Mais alors, en résolvant l'équation différentielle (1), on obtient, pour tout $t \\in \\mathbb{R}_{+}$ :\n",
    "$$ |H(x(t))- H(x_0)| = Ae^{-k\\int_0^t ||\\nabla H(s)||^2 \\, \\mathrm ds} \\le Ae^{-k\\int_0^t c' \\, \\mathrm ds} = Ae^{-kc't}$$\n",
    "où A est une constante réelle positive.\n",
    "\n",
    "$H(x(t))$ converge explonentiellement vers $H(x_0)$"
   ]
  },
  {
   "cell_type": "markdown",
   "metadata": {},
   "source": [
    "# Question 11"
   ]
  },
  {
   "cell_type": "markdown",
   "metadata": {},
   "source": [
    "Pour stabiliser H, il faudrait alors appliquer le schéma d'Euler à la fonction F précédente et non plus à la fonction que nous utilisions jusqu'ici dans nos simulations. #malheureusement ça ne fonctionne pas\n",
    "$k$ a pour rôle d'accélérer la convergence de H. En effet, c' peut être très faible pour une trajectoire passant très près d' $\\bar x$. Mais il ne peut pas être arbitrairement grand : au premier ordre en dt on a pour $j \\in \\mathbb{N}^{*}$:\n",
    "\n",
    "$$(H(x^{j+1}) - H(x_0)) = (1 - kdt||\\nabla H(x(t^j))||^2).(H(x^{j}) - H(x_0))$$\n",
    "\n",
    "Un k trop grand pourrait alors entrainer la divergence de H, par exemple si il existe $\\epsilon > 0$ tel que pour tout $ j \\in \\mathbb{N}$, $|1 - kdt.||\\nabla H(x(t^j))||^2| > 1 + \\epsilon$. La suite $(H(x^{j+1}) - H(x_0))_{j \\in \\mathbb{N}}$ serait alors divergente (à moins d'être initialisée à 0) car elle dominerait une suite géométrique de raison de module strictement supérieur à 1"
   ]
  }
 ],
 "metadata": {
  "kernelspec": {
   "display_name": "Python 3",
   "language": "python",
   "name": "python3"
  },
  "language_info": {
   "codemirror_mode": {
    "name": "ipython",
    "version": 3
   },
   "file_extension": ".py",
   "mimetype": "text/x-python",
   "name": "python",
   "nbconvert_exporter": "python",
   "pygments_lexer": "ipython3",
   "version": "3.8.3"
  }
 },
 "nbformat": 4,
 "nbformat_minor": 2
}
